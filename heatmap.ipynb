import pandas as pd
import seaborn as sns
import matplotlib.pyplot as plt

#psc101 backbone
#data is highest arabinose concentration on each day, averaged from three trials.

#Create Dataframe
data = {
    "psc101 blank": [0,0.033333333,0.05],
    "WT": [0.033333333,0.066666667,0.116666667],
    "GbR 2-1": [0.05,0.116666667,0.2],
    "GbR 2-2": [0.133333333,0.166666667,0.266666667],
    "GbR 2-3": [0.1,0.183333333,0.266666667],
    "GbR 2-4": [0.033333333,0.066666667,0.15],
    "GbR 4-1": [0.016666667,0.033333333,0.05],
    "GbR 4-2": [0.066666667,0.2,0.266666667],
    "GbR 4-3": [0.016666667,0.066666667,0.133333333],
    "GbR 4-4": [0.05,0.133333333,0.2],
    "GbR 4-5": [0,0.016666667,0.05],
    "GbR 4-6": [0.116666667,0.233333333,0.266666667],
    "GbR 6-1": [0.166666667,0.3,0.3],
    "GbR 6-2": [0,0,0],
    "GbR 6-3": [0,0,0],
    "GbR 8-1": [0.183333333,0.266666667,0.3],
    "GbR 8-2": [0.1,0.2,0.266666667],
    "GbR 8-3": [0,0,0.016666667],
    "GbR 8-4": [0.016666667,0.05,0.066666667],
    
}
    
index_labels = ["Day 2","Day 3","Day 4"]

df = pd.DataFrame(data, index=index_labels)

# Plotting the heatmap
plt.figure(figsize=(10, 8))
heatmap = sns.heatmap(df.T, fmt=".1f", linewidths=1, linecolor='black', cmap="Greens", cbar_kws={'label': '% arabinose'})
plt.title('')
plt.show()
